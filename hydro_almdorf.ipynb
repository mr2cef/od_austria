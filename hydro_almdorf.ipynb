{
 "cells": [
  {
   "cell_type": "code",
   "execution_count": null,
   "id": "948a47fc",
   "metadata": {},
   "outputs": [],
   "source": [
    "import requests\n",
    "import pandas as pd\n",
    "import plotly.express as px\n",
    "from io import StringIO"
   ]
  },
  {
   "cell_type": "code",
   "execution_count": null,
   "id": "6d13e0db",
   "metadata": {},
   "outputs": [],
   "source": [
    "a = requests.get(\"https://wiski.tirol.gv.at/hydro/ogd/OGD_W.csv\")"
   ]
  },
  {
   "cell_type": "code",
   "execution_count": null,
   "id": "9fe22b11",
   "metadata": {},
   "outputs": [],
   "source": [
    "df = pd.read_csv(StringIO(a.text), sep=\";\")\n",
    "df[\"Zeitstempel in ISO8601\"] = pd.to_datetime(df[\"Zeitstempel in ISO8601\"])"
   ]
  },
  {
   "cell_type": "code",
   "execution_count": null,
   "id": "3abf5e19",
   "metadata": {},
   "outputs": [],
   "source": [
    "df2 = df[df[\"Stationsname\"].isin([\"Almdorf\", \"St Johann in Tirol\", \"Kössen Staffenbrücke\", \"Kitzbühel (Bahnhofsbrücke)\", \"Innsbruck\"])]"
   ]
  },
  {
   "cell_type": "code",
   "execution_count": null,
   "id": "77f551d5",
   "metadata": {
    "scrolled": false
   },
   "outputs": [],
   "source": [
    "px.line(df2, x=\"Zeitstempel in ISO8601\", y=\"Wert\", color=\"Stationsname\").show()"
   ]
  },
  {
   "cell_type": "code",
   "execution_count": null,
   "id": "b86aca0c",
   "metadata": {},
   "outputs": [],
   "source": []
  },
  {
   "cell_type": "code",
   "execution_count": null,
   "id": "22fa5693",
   "metadata": {},
   "outputs": [],
   "source": []
  },
  {
   "cell_type": "code",
   "execution_count": null,
   "id": "6d990724",
   "metadata": {},
   "outputs": [],
   "source": []
  },
  {
   "cell_type": "code",
   "execution_count": null,
   "id": "c418e843",
   "metadata": {},
   "outputs": [],
   "source": []
  },
  {
   "cell_type": "code",
   "execution_count": null,
   "id": "fe5b82e2",
   "metadata": {},
   "outputs": [],
   "source": []
  },
  {
   "cell_type": "code",
   "execution_count": null,
   "id": "530ed8fc",
   "metadata": {},
   "outputs": [],
   "source": []
  }
 ],
 "metadata": {
  "kernelspec": {
   "display_name": "Python 3",
   "language": "python",
   "name": "python3"
  },
  "language_info": {
   "codemirror_mode": {
    "name": "ipython",
    "version": 3
   },
   "file_extension": ".py",
   "mimetype": "text/x-python",
   "name": "python",
   "nbconvert_exporter": "python",
   "pygments_lexer": "ipython3",
   "version": "3.9.6"
  }
 },
 "nbformat": 4,
 "nbformat_minor": 5
}
